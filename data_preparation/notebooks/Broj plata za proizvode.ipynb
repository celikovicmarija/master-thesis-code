{
 "cells": [
  {
   "cell_type": "code",
   "execution_count": 1,
   "id": "c08ac3f4",
   "metadata": {},
   "outputs": [],
   "source": [
    "import pandas as pd\n",
    "import os\n",
    "import csv\n",
    "import re\n",
    "import cyrtranslit"
   ]
  },
  {
   "cell_type": "code",
   "execution_count": 30,
   "id": "17953e73",
   "metadata": {},
   "outputs": [],
   "source": [
    "def transliterate_serbian(col):\n",
    "    return cyrtranslit.to_latin(col,'sr')"
   ]
  },
  {
   "cell_type": "code",
   "execution_count": 3,
   "id": "74458875",
   "metadata": {},
   "outputs": [],
   "source": [
    "path = \"C:\\\\Users\\\\mace\\\\OneDrive - Zühlke Engineering AG\\\\Documents\\\\master-thesis-code\\\\raw data\\\\Potrošačka korpa\\\\extracted\"\n",
    "filelist = []\n",
    "\n",
    "for root, dirs, files in os.walk(path):\n",
    "    for file in files:\n",
    "        filelist.append(os.path.join(root, file))\n",
    "        \n",
    "for file in filelist:\n",
    "    if 'plat' in str(file).lower():\n",
    "        print(str(file).lower())\n",
    "        filename=str(file).lower().split('\\\\')[-1]\n",
    "        df=pd.read_csv(file,skiprows=5, error_bad_lines=False)\n",
    "        break\n",
    "        \n",
    "struktura_list=[a for a in filelist if 'plat' in file.lower()]"
   ]
  },
  {
   "cell_type": "code",
   "execution_count": null,
   "id": "3df1c273",
   "metadata": {},
   "outputs": [],
   "source": [
    "file=struktura_list.pop()\n",
    "print(file)"
   ]
  },
  {
   "cell_type": "code",
   "execution_count": 1614,
   "id": "2aeca964",
   "metadata": {},
   "outputs": [
    {
     "name": "stderr",
     "output_type": "stream",
     "text": [
      "C:\\Users\\mace\\AppData\\Local\\Temp\\ipykernel_13868\\1618457523.py:4: FutureWarning: The error_bad_lines argument has been deprecated and will be removed in a future version. Use on_bad_lines in the future.\n",
      "\n",
      "\n",
      "  df=pd.read_csv(file,skiprows=3, error_bad_lines=False)\n"
     ]
    }
   ],
   "source": [
    "filename=str(file).lower().split('\\\\')[-1]\n",
    "mesec=filename.replace('.csv','').strip().split(' ')[-2].lower()\n",
    "godina=int(re.findall('\\d+',filename)[0])\n",
    "df=pd.read_csv(file,skiprows=3, error_bad_lines=False)\n",
    "df.drop('1',axis=1,inplace=True)\n",
    "df.head()\n",
    "start=[\"Artikal\",f\"{mesec} 2000\"]\n",
    "column_names=[f\"{mesec} {god}\" for god in range(godina-8,godina+1)]\n",
    "[start.append(e) for e in column_names]\n",
    "df.columns=start\n",
    "df['Artikal']=df['Artikal'].apply(transliterate_serbian)\n",
    "pretty_path = \"C:\\\\Users\\\\mace\\\\OneDrive - Zühlke Engineering AG\\\\Documents\\\\master-thesis-code\\\\raw data\\\\Potrošačka korpa\\\\extracted\\\\clean\\\\\"\n",
    "df.to_csv(f\"{pretty_path}{filename}\")"
   ]
  },
  {
   "cell_type": "code",
   "execution_count": 1615,
   "id": "9d1e3b9c",
   "metadata": {},
   "outputs": [
    {
     "data": {
      "text/html": [
       "<div>\n",
       "<style scoped>\n",
       "    .dataframe tbody tr th:only-of-type {\n",
       "        vertical-align: middle;\n",
       "    }\n",
       "\n",
       "    .dataframe tbody tr th {\n",
       "        vertical-align: top;\n",
       "    }\n",
       "\n",
       "    .dataframe thead th {\n",
       "        text-align: right;\n",
       "    }\n",
       "</style>\n",
       "<table border=\"1\" class=\"dataframe\">\n",
       "  <thead>\n",
       "    <tr style=\"text-align: right;\">\n",
       "      <th></th>\n",
       "      <th>Artikal</th>\n",
       "      <th>april 2000</th>\n",
       "      <th>april 2003</th>\n",
       "      <th>april 2004</th>\n",
       "      <th>april 2005</th>\n",
       "      <th>april 2006</th>\n",
       "      <th>april 2007</th>\n",
       "      <th>april 2008</th>\n",
       "      <th>april 2009</th>\n",
       "      <th>april 2010</th>\n",
       "      <th>april 2011</th>\n",
       "    </tr>\n",
       "  </thead>\n",
       "  <tbody>\n",
       "    <tr>\n",
       "      <th>0</th>\n",
       "      <td>Frižider</td>\n",
       "      <td>4,5</td>\n",
       "      <td>1,4</td>\n",
       "      <td>1,2</td>\n",
       "      <td>1,1</td>\n",
       "      <td>0,9</td>\n",
       "      <td>0,7</td>\n",
       "      <td>0,6</td>\n",
       "      <td>0,6</td>\n",
       "      <td>0,6</td>\n",
       "      <td>0,6</td>\n",
       "    </tr>\n",
       "    <tr>\n",
       "      <th>1</th>\n",
       "      <td>Električni štednjak</td>\n",
       "      <td>3,8</td>\n",
       "      <td>1,6</td>\n",
       "      <td>1,2</td>\n",
       "      <td>1,0</td>\n",
       "      <td>0,9</td>\n",
       "      <td>0,7</td>\n",
       "      <td>0,6</td>\n",
       "      <td>0,6</td>\n",
       "      <td>0,5</td>\n",
       "      <td>0,5</td>\n",
       "    </tr>\n",
       "    <tr>\n",
       "      <th>2</th>\n",
       "      <td>Maš. za pranje rublja</td>\n",
       "      <td>6,4</td>\n",
       "      <td>2,0</td>\n",
       "      <td>1,6</td>\n",
       "      <td>1,4</td>\n",
       "      <td>1,1</td>\n",
       "      <td>0,8</td>\n",
       "      <td>0,7</td>\n",
       "      <td>0,7</td>\n",
       "      <td>0,6</td>\n",
       "      <td>0,7</td>\n",
       "    </tr>\n",
       "    <tr>\n",
       "      <th>3</th>\n",
       "      <td>Kolor TV (56 cm)</td>\n",
       "      <td>4,5</td>\n",
       "      <td>1,4</td>\n",
       "      <td>1,1</td>\n",
       "      <td>0,9</td>\n",
       "      <td>0,7</td>\n",
       "      <td>0,5</td>\n",
       "      <td>0,8</td>\n",
       "      <td>0,5</td>\n",
       "      <td>0,3</td>\n",
       "      <td>0,3</td>\n",
       "    </tr>\n",
       "    <tr>\n",
       "      <th>4</th>\n",
       "      <td>Škoda Fabija 1,2*</td>\n",
       "      <td>89,5</td>\n",
       "      <td>24,9</td>\n",
       "      <td>20,5</td>\n",
       "      <td>18,6</td>\n",
       "      <td>18,9</td>\n",
       "      <td>15,0</td>\n",
       "      <td>12,0</td>\n",
       "      <td>26,3</td>\n",
       "      <td>23</td>\n",
       "      <td>22,8</td>\n",
       "    </tr>\n",
       "  </tbody>\n",
       "</table>\n",
       "</div>"
      ],
      "text/plain": [
       "                 Artikal april 2000 april 2003 april 2004 april 2005  \\\n",
       "0               Frižider        4,5        1,4        1,2        1,1   \n",
       "1    Električni štednjak        3,8        1,6        1,2        1,0   \n",
       "2  Maš. za pranje rublja        6,4        2,0        1,6        1,4   \n",
       "3       Kolor TV (56 cm)        4,5        1,4        1,1        0,9   \n",
       "4      Škoda Fabija 1,2*       89,5       24,9       20,5       18,6   \n",
       "\n",
       "  april 2006 april 2007 april 2008 april 2009 april 2010 april 2011  \n",
       "0        0,9        0,7        0,6        0,6        0,6        0,6  \n",
       "1        0,9        0,7        0,6        0,6        0,5        0,5  \n",
       "2        1,1        0,8        0,7        0,7        0,6        0,7  \n",
       "3        0,7        0,5        0,8        0,5        0,3        0,3  \n",
       "4       18,9       15,0       12,0       26,3         23       22,8  "
      ]
     },
     "execution_count": 1615,
     "metadata": {},
     "output_type": "execute_result"
    }
   ],
   "source": [
    "df.head()"
   ]
  },
  {
   "cell_type": "code",
   "execution_count": null,
   "id": "337eb256",
   "metadata": {},
   "outputs": [],
   "source": []
  }
 ],
 "metadata": {
  "kernelspec": {
   "display_name": "Python 3 (ipykernel)",
   "language": "python",
   "name": "python3"
  },
  "language_info": {
   "codemirror_mode": {
    "name": "ipython",
    "version": 3
   },
   "file_extension": ".py",
   "mimetype": "text/x-python",
   "name": "python",
   "nbconvert_exporter": "python",
   "pygments_lexer": "ipython3",
   "version": "3.9.12"
  }
 },
 "nbformat": 4,
 "nbformat_minor": 5
}
