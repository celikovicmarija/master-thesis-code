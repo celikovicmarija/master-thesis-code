{
 "cells": [
  {
   "cell_type": "code",
   "execution_count": 1,
   "id": "c08ac3f4",
   "metadata": {},
   "outputs": [],
   "source": [
    "import pandas as pd\n",
    "import os\n",
    "import csv\n",
    "import cyrtranslit"
   ]
  },
  {
   "cell_type": "code",
   "execution_count": 2,
   "id": "74458875",
   "metadata": {},
   "outputs": [],
   "source": [
    "path = \"C:\\\\Users\\\\mace\\\\OneDrive - Zühlke Engineering AG\\\\Documents\\\\master-thesis-code\\\\raw data\\\\Potrošačka korpa\\\\extracted\"\n",
    "filelist = []\n",
    "\n",
    "for root, dirs, files in os.walk(path):\n",
    "    for file in files:\n",
    "        filelist.append(os.path.join(root, file))\n",
    "\n",
    "for file in filelist:\n",
    "    if 'kupovna' in str(file).lower():\n",
    "        print(str(file).lower())\n",
    "        filename=str(file).lower().split('\\\\')[-1]\n",
    "        df=pd.read_csv(file,skiprows=5, error_bad_lines=False)\n",
    "        break\n",
    "        \n",
    "def transliterate_serbian(col):\n",
    "    return cyrtranslit.to_latin(col,'sr')"
   ]
  },
  {
   "cell_type": "code",
   "execution_count": 1384,
   "id": "0666fec5",
   "metadata": {},
   "outputs": [],
   "source": [
    "struktura_list=[a for a in filelist if 'korpa' in str(file).lower()]"
   ]
  },
  {
   "cell_type": "code",
   "execution_count": 1588,
   "id": "64da14af",
   "metadata": {},
   "outputs": [
    {
     "name": "stdout",
     "output_type": "stream",
     "text": [
      "C:\\Users\\mace\\OneDrive - Zühlke Engineering AG\\Documents\\master-thesis-code\\raw data\\Potrošačka korpa\\extracted\\Novembar 2015\\Minimalna potrosacka korpa Novembar 2015.csv\n"
     ]
    }
   ],
   "source": [
    "file=struktura_list.pop()\n",
    "print(file)"
   ]
  },
  {
   "cell_type": "code",
   "execution_count": null,
   "id": "97c5765a",
   "metadata": {},
   "outputs": [],
   "source": [
    "filename=str(file).lower().split('\\\\')[-1]\n",
    "df=pd.read_csv(file,skiprows=7, error_bad_lines=False)\n",
    "df[['Iznos Nove Prosecne korpe','Iznos Minimalne Potrosacke korpe',]]=df['3 4'].str.split(' ', expand=True)\n",
    "df.rename({'1':'Grad','2':'Prosecna neto zarada po zaposlenom'}, inplace=True,axis=1)\n",
    "#df.columns[2]='Procenat Minimalne Potrosacke korpe'\n",
    "df.drop('3 4',axis=1,inplace=True)\n",
    "df[['Odnos Zarade i Prosecne korpe','Odnos Zarade i Minimalne korpe']]=df['5 6'].str.split(' ', expand=True)\n",
    "df.drop('5 6',axis=1,inplace=True)\n",
    "df['Grad']=df['Grad'].apply(transliterate_serbian)\n",
    "pretty_path = \"C:\\\\Users\\\\mace\\\\OneDrive - Zühlke Engineering AG\\\\Documents\\\\master-thesis-code\\\\raw data\\\\Potrošačka korpa\\\\extracted\\\\clean\\\\\"\n",
    "df.to_csv(f\"{pretty_path}{filename}\")"
   ]
  },
  {
   "cell_type": "code",
   "execution_count": 1598,
   "id": "618d0450",
   "metadata": {},
   "outputs": [
    {
     "data": {
      "text/html": [
       "<div>\n",
       "<style scoped>\n",
       "    .dataframe tbody tr th:only-of-type {\n",
       "        vertical-align: middle;\n",
       "    }\n",
       "\n",
       "    .dataframe tbody tr th {\n",
       "        vertical-align: top;\n",
       "    }\n",
       "\n",
       "    .dataframe thead th {\n",
       "        text-align: right;\n",
       "    }\n",
       "</style>\n",
       "<table border=\"1\" class=\"dataframe\">\n",
       "  <thead>\n",
       "    <tr style=\"text-align: right;\">\n",
       "      <th></th>\n",
       "      <th>Grad</th>\n",
       "      <th>Prosecna neto zarada po zaposlenom</th>\n",
       "      <th>Iznos Nove Prosecne korpe</th>\n",
       "      <th>Iznos Minimalne Potrosacke korpe</th>\n",
       "      <th>Odnos Zarade i Prosecne korpe</th>\n",
       "      <th>Odnos Zarade i Minimalne korpe</th>\n",
       "    </tr>\n",
       "  </thead>\n",
       "  <tbody>\n",
       "    <tr>\n",
       "      <th>0</th>\n",
       "      <td>Beograd</td>\n",
       "      <td>66.951</td>\n",
       "      <td>74.959,57</td>\n",
       "      <td>43.366,93</td>\n",
       "      <td>1,12</td>\n",
       "      <td>0,65</td>\n",
       "    </tr>\n",
       "    <tr>\n",
       "      <th>1</th>\n",
       "      <td>Novi Sad</td>\n",
       "      <td>59.349</td>\n",
       "      <td>79.472,80</td>\n",
       "      <td>39.175,02</td>\n",
       "      <td>1,34</td>\n",
       "      <td>0,66</td>\n",
       "    </tr>\n",
       "    <tr>\n",
       "      <th>2</th>\n",
       "      <td>Republika Srbija</td>\n",
       "      <td>54.115</td>\n",
       "      <td>71.481,08</td>\n",
       "      <td>37.029,08</td>\n",
       "      <td>1,32</td>\n",
       "      <td>0,68</td>\n",
       "    </tr>\n",
       "    <tr>\n",
       "      <th>3</th>\n",
       "      <td>Pančevo</td>\n",
       "      <td>53.513</td>\n",
       "      <td>77.862,72</td>\n",
       "      <td>38.537,40</td>\n",
       "      <td>1,46</td>\n",
       "      <td>0,72</td>\n",
       "    </tr>\n",
       "    <tr>\n",
       "      <th>4</th>\n",
       "      <td>Smederevo</td>\n",
       "      <td>52.711</td>\n",
       "      <td>65.880,83</td>\n",
       "      <td>34.597,83</td>\n",
       "      <td>1,25</td>\n",
       "      <td>0,66</td>\n",
       "    </tr>\n",
       "  </tbody>\n",
       "</table>\n",
       "</div>"
      ],
      "text/plain": [
       "               Grad  Prosecna neto zarada po zaposlenom  \\\n",
       "0           Beograd                              66.951   \n",
       "1          Novi Sad                              59.349   \n",
       "2  Republika Srbija                              54.115   \n",
       "3           Pančevo                              53.513   \n",
       "4         Smederevo                              52.711   \n",
       "\n",
       "  Iznos Nove Prosecne korpe Iznos Minimalne Potrosacke korpe  \\\n",
       "0                 74.959,57                        43.366,93   \n",
       "1                 79.472,80                        39.175,02   \n",
       "2                 71.481,08                        37.029,08   \n",
       "3                 77.862,72                        38.537,40   \n",
       "4                 65.880,83                        34.597,83   \n",
       "\n",
       "  Odnos Zarade i Prosecne korpe Odnos Zarade i Minimalne korpe  \n",
       "0                          1,12                           0,65  \n",
       "1                          1,34                           0,66  \n",
       "2                          1,32                           0,68  \n",
       "3                          1,46                           0,72  \n",
       "4                          1,25                           0,66  "
      ]
     },
     "execution_count": 1598,
     "metadata": {},
     "output_type": "execute_result"
    }
   ],
   "source": [
    "df.head()"
   ]
  },
  {
   "cell_type": "code",
   "execution_count": null,
   "id": "337eb256",
   "metadata": {},
   "outputs": [],
   "source": []
  }
 ],
 "metadata": {
  "kernelspec": {
   "display_name": "Python 3 (ipykernel)",
   "language": "python",
   "name": "python3"
  },
  "language_info": {
   "codemirror_mode": {
    "name": "ipython",
    "version": 3
   },
   "file_extension": ".py",
   "mimetype": "text/x-python",
   "name": "python",
   "nbconvert_exporter": "python",
   "pygments_lexer": "ipython3",
   "version": "3.9.12"
  }
 },
 "nbformat": 4,
 "nbformat_minor": 5
}
