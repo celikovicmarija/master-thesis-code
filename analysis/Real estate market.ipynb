{
 "cells": [
  {
   "cell_type": "markdown",
   "id": "abe6d584",
   "metadata": {},
   "source": [
    "# Real estate market: predictions"
   ]
  },
  {
   "cell_type": "markdown",
   "id": "37fdf34d",
   "metadata": {},
   "source": [
    "Note-to-self:\n",
    "\n",
    "    - https://scikit-learn.org/stable/modules/neural_networks_supervised.html\n",
    "    - https://www.statsmodels.org/stable/generated/statsmodels.tsa.arima.model.ARIMA.html#statsmodels.tsa.arima.model.ARIMA\n",
    "    \n",
    "    There might not be appropriate data for ARIMA. "
   ]
  },
  {
   "cell_type": "code",
   "execution_count": 1,
   "id": "206fb3ae",
   "metadata": {},
   "outputs": [],
   "source": [
    "#import paketa\n",
    "import pymysql\n",
    "import pandas as pd\n",
    "import numpy as np\n",
    "import sklearn\n",
    "import warnings\n",
    "warnings.filterwarnings('ignore')\n",
    "\n",
    "import scikitplot as skplt\n",
    "import matplotlib.pyplot as plt\n",
    "import seaborn as sns"
   ]
  },
  {
   "cell_type": "code",
   "execution_count": 2,
   "id": "aa766db0",
   "metadata": {},
   "outputs": [],
   "source": [
    "# keep results for different models\n",
    "from collections import defaultdict\n",
    "models=defaultdict(list)"
   ]
  },
  {
   "cell_type": "code",
   "execution_count": 3,
   "id": "13c3db7a",
   "metadata": {},
   "outputs": [],
   "source": [
    "# impute missing values - some imputer"
   ]
  },
  {
   "cell_type": "code",
   "execution_count": 4,
   "id": "6ce5e3dc",
   "metadata": {},
   "outputs": [],
   "source": [
    "from sklearn.preprocessing import OneHotEncoder\n",
    "#encoding of categprical"
   ]
  },
  {
   "cell_type": "code",
   "execution_count": 5,
   "id": "11078d54",
   "metadata": {},
   "outputs": [],
   "source": [
    "from sklearn.model_selection import train_test_split\n",
    "from sklearn.preprocessing import MinMaxScaler\n"
   ]
  },
  {
   "cell_type": "code",
   "execution_count": 6,
   "id": "8a16857d",
   "metadata": {},
   "outputs": [],
   "source": [
    "# Import  basic models\n",
    "from sklearn.tree import DecisionTreeRegressor\n",
    "from sklearn.ensemble import RandomForestRegressor\n",
    "from sklearn.linear_model import LinearRegression\n",
    "from statsmodels.tsa.arima_model import ARIMA"
   ]
  },
  {
   "cell_type": "code",
   "execution_count": 7,
   "id": "4389ed94",
   "metadata": {},
   "outputs": [],
   "source": [
    "#metrika: root mean squared error, mean absolute error\n",
    "from sklearn.model_selection import cross_val_score"
   ]
  },
  {
   "cell_type": "code",
   "execution_count": 8,
   "id": "9e94636a",
   "metadata": {},
   "outputs": [],
   "source": [
    "#Selekcija atributa - test and see\n",
    "\n",
    "######## FILTER METODE\n",
    "from sklearn.feature_selection import chi2\n",
    "from sklearn.feature_selection import mutual_info_classif\n",
    "\n",
    "from sklearn.feature_selection import SelectKBest\n",
    "selection = SelectKBest(k=55, score_func=mutual_info_classif) \n",
    "\n",
    "######## WRAPPER METODE\n",
    "from sklearn.feature_selection import RFECV\n",
    "\n",
    "######## EMBDEDDED METODE\n",
    "from sklearn.feature_selection import SelectFromModel"
   ]
  },
  {
   "cell_type": "code",
   "execution_count": 9,
   "id": "799d5cd4",
   "metadata": {},
   "outputs": [],
   "source": [
    "########## OPTIMIZACIJA hiperparametara\n",
    "from sklearn.model_selection import GridSearchCV\n",
    "from sklearn.model_selection import RandomizedSearchCV"
   ]
  },
  {
   "cell_type": "code",
   "execution_count": 10,
   "id": "e77aba1e",
   "metadata": {},
   "outputs": [],
   "source": [
    "# Nakon odabira konačnog modela, probati klasterovanje, sa klasterom kao dodatnim atirbutom, sve finalne modele\n",
    "from sklearn.cluster import KMeans\n",
    "from sklearn.metrics import silhouette_score"
   ]
  },
  {
   "cell_type": "code",
   "execution_count": 11,
   "id": "5ba814e3",
   "metadata": {},
   "outputs": [],
   "source": [
    "from sklearn.ensemble import AdaBoostRegressor\n",
    "from sklearn.ensemble import VotingRegressor\n",
    "from sklearn.ensemble import GradientBoostingRegressor\n",
    "from sklearn.neural_network import MLPRegressor\n",
    "import xgboost as xgb\n",
    "import lightgbm as lgb"
   ]
  },
  {
   "cell_type": "code",
   "execution_count": null,
   "id": "07e7c704",
   "metadata": {},
   "outputs": [],
   "source": []
  }
 ],
 "metadata": {
  "kernelspec": {
   "display_name": "Python 3 (ipykernel)",
   "language": "python",
   "name": "python3"
  },
  "language_info": {
   "codemirror_mode": {
    "name": "ipython",
    "version": 3
   },
   "file_extension": ".py",
   "mimetype": "text/x-python",
   "name": "python",
   "nbconvert_exporter": "python",
   "pygments_lexer": "ipython3",
   "version": "3.9.12"
  }
 },
 "nbformat": 4,
 "nbformat_minor": 5
}
